{
 "cells": [
  {
   "cell_type": "markdown",
   "id": "80b0684b-7e6e-4d6f-96ef-48a48833ddab",
   "metadata": {},
   "source": [
    "# Hello World "
   ]
  },
  {
   "cell_type": "code",
   "execution_count": 13,
   "id": "160a4018-6d2a-4f53-a29b-fddfbfdb980d",
   "metadata": {},
   "outputs": [
    {
     "name": "stdout",
     "output_type": "stream",
     "text": [
      "Hello World ! \n"
     ]
    }
   ],
   "source": [
    "print(\"Hello World ! \")"
   ]
  },
  {
   "cell_type": "code",
   "execution_count": 14,
   "id": "8509567f-accb-4220-8d3e-875d2180ce65",
   "metadata": {},
   "outputs": [
    {
     "data": {
      "text/plain": [
       "'Hello World !'"
      ]
     },
     "execution_count": 14,
     "metadata": {},
     "output_type": "execute_result"
    }
   ],
   "source": [
    "\"Hello World !\""
   ]
  },
  {
   "cell_type": "code",
   "execution_count": 15,
   "id": "56d9ce77-c393-49f5-bcc1-05bfa2f03fb3",
   "metadata": {},
   "outputs": [
    {
     "name": "stdout",
     "output_type": "stream",
     "text": [
      "Aditya\n"
     ]
    }
   ],
   "source": [
    "#m MY Name \n",
    "print(\"Aditya\")"
   ]
  },
  {
   "cell_type": "code",
   "execution_count": 16,
   "id": "a80fd1d3-443f-4209-9c72-1707398757c1",
   "metadata": {},
   "outputs": [
    {
     "name": "stdout",
     "output_type": "stream",
     "text": [
      "21\n"
     ]
    }
   ],
   "source": [
    "# My Age \n",
    "print(21)"
   ]
  },
  {
   "cell_type": "markdown",
   "id": "f29cde23-1164-4614-a659-cfd71266eb33",
   "metadata": {},
   "source": [
    "# Data Types"
   ]
  },
  {
   "cell_type": "markdown",
   "id": "920c6aa1-283a-4328-a967-6e0d9edcd546",
   "metadata": {},
   "source": [
    "## Basic Data Types"
   ]
  },
  {
   "cell_type": "code",
   "execution_count": 17,
   "id": "ab0399bc-53af-43eb-8746-3d1e4dbf672e",
   "metadata": {},
   "outputs": [
    {
     "name": "stdout",
     "output_type": "stream",
     "text": [
      "10\n"
     ]
    },
    {
     "data": {
      "text/plain": [
       "int"
      ]
     },
     "execution_count": 17,
     "metadata": {},
     "output_type": "execute_result"
    }
   ],
   "source": [
    "x = 10 \n",
    "print(x)\n",
    "type(x)"
   ]
  },
  {
   "cell_type": "code",
   "execution_count": 18,
   "id": "b1d9bfae-2eab-44d6-867c-4632431c81aa",
   "metadata": {},
   "outputs": [
    {
     "data": {
      "text/plain": [
       "float"
      ]
     },
     "execution_count": 18,
     "metadata": {},
     "output_type": "execute_result"
    }
   ],
   "source": [
    "y = 3.14\n",
    "type(y)"
   ]
  },
  {
   "cell_type": "code",
   "execution_count": 19,
   "id": "33779e7f-947c-4e68-88b3-433427ca1db6",
   "metadata": {},
   "outputs": [
    {
     "data": {
      "text/plain": [
       "complex"
      ]
     },
     "execution_count": 19,
     "metadata": {},
     "output_type": "execute_result"
    }
   ],
   "source": [
    "z = 2 + 3j\n",
    "type(z)"
   ]
  },
  {
   "cell_type": "markdown",
   "id": "395626dc-8aff-4a00-85e2-2667609ff699",
   "metadata": {},
   "source": [
    "## Text Type"
   ]
  },
  {
   "cell_type": "code",
   "execution_count": 20,
   "id": "7f2cb610-e50d-4e0e-8f47-00b4a8746d93",
   "metadata": {},
   "outputs": [
    {
     "data": {
      "text/plain": [
       "str"
      ]
     },
     "execution_count": 20,
     "metadata": {},
     "output_type": "execute_result"
    }
   ],
   "source": [
    "name = \"Aditya\"\n",
    "type(name)"
   ]
  },
  {
   "cell_type": "markdown",
   "id": "4af458ba-0c88-4805-9237-52f9df875bb8",
   "metadata": {},
   "source": [
    "## Boolean Type"
   ]
  },
  {
   "cell_type": "code",
   "execution_count": 21,
   "id": "5bdc0c68-babf-4cc6-bd72-b1be562c5f22",
   "metadata": {},
   "outputs": [
    {
     "data": {
      "text/plain": [
       "bool"
      ]
     },
     "execution_count": 21,
     "metadata": {},
     "output_type": "execute_result"
    }
   ],
   "source": [
    "is_active = True\n",
    "type(is_active)"
   ]
  },
  {
   "cell_type": "code",
   "execution_count": 22,
   "id": "c231a022-d8b8-47d5-b7bd-18593599478e",
   "metadata": {},
   "outputs": [
    {
     "data": {
      "text/plain": [
       "bool"
      ]
     },
     "execution_count": 22,
     "metadata": {},
     "output_type": "execute_result"
    }
   ],
   "source": [
    "is_active = False\n",
    "type(is_active)"
   ]
  },
  {
   "cell_type": "markdown",
   "id": "70b2d68b-520a-47fc-9930-544ae16b8f99",
   "metadata": {},
   "source": [
    "# Sequence Type"
   ]
  },
  {
   "cell_type": "markdown",
   "id": "8fe328cd-fb4b-4cab-9eb6-2a208545b6b9",
   "metadata": {},
   "source": [
    "### List"
   ]
  },
  {
   "cell_type": "code",
   "execution_count": 23,
   "id": "e94c6226-0691-49ff-bbd9-99d960ca790b",
   "metadata": {},
   "outputs": [
    {
     "name": "stdout",
     "output_type": "stream",
     "text": [
      "['apples', 'banana', 'cherry']\n"
     ]
    },
    {
     "data": {
      "text/plain": [
       "list"
      ]
     },
     "execution_count": 23,
     "metadata": {},
     "output_type": "execute_result"
    }
   ],
   "source": [
    "fruits = [\"apples\",\"banana\",\"cherry\"]\n",
    "print(fruits)\n",
    "type(fruits)"
   ]
  },
  {
   "cell_type": "markdown",
   "id": "2924df1c-89a4-41ae-8634-1dd88827164e",
   "metadata": {},
   "source": [
    "### Tuple"
   ]
  },
  {
   "cell_type": "code",
   "execution_count": 24,
   "id": "4e2f1590-228b-4ab5-9c05-bf9b897bd0af",
   "metadata": {},
   "outputs": [
    {
     "name": "stdout",
     "output_type": "stream",
     "text": [
      "(10, 20)\n"
     ]
    },
    {
     "data": {
      "text/plain": [
       "tuple"
      ]
     },
     "execution_count": 24,
     "metadata": {},
     "output_type": "execute_result"
    }
   ],
   "source": [
    "point = (10,20)\n",
    "print(point)\n",
    "type(point)"
   ]
  },
  {
   "cell_type": "markdown",
   "id": "54faf6aa-54e8-4bda-ac69-3fc6de0b8883",
   "metadata": {},
   "source": [
    "### Range"
   ]
  },
  {
   "cell_type": "code",
   "execution_count": 25,
   "id": "b6eaf9e5-e3f5-4a49-ad95-72c08f2c2f27",
   "metadata": {},
   "outputs": [
    {
     "name": "stdout",
     "output_type": "stream",
     "text": [
      "range(0, 5)\n"
     ]
    },
    {
     "data": {
      "text/plain": [
       "range"
      ]
     },
     "execution_count": 25,
     "metadata": {},
     "output_type": "execute_result"
    }
   ],
   "source": [
    "r = range(5)\n",
    "print(r)\n",
    "type(r)"
   ]
  },
  {
   "cell_type": "markdown",
   "id": "b9a34796-f5e4-4fb2-9b4b-0c510400bd4a",
   "metadata": {},
   "source": [
    "## Mapping Type"
   ]
  },
  {
   "cell_type": "markdown",
   "id": "9051c73e-ed3c-441d-ba02-8bff24383560",
   "metadata": {},
   "source": [
    "### Dictionary"
   ]
  },
  {
   "cell_type": "code",
   "execution_count": 26,
   "id": "8c6289a5-18db-40fb-8cc8-3b8670c4704f",
   "metadata": {},
   "outputs": [
    {
     "name": "stdout",
     "output_type": "stream",
     "text": [
      "{'name': 'Aditya', 'age': 20}\n"
     ]
    },
    {
     "data": {
      "text/plain": [
       "dict"
      ]
     },
     "execution_count": 26,
     "metadata": {},
     "output_type": "execute_result"
    }
   ],
   "source": [
    "student = {\"name\":\"Aditya\",\"age\":20}\n",
    "print(student)\n",
    "type(student)"
   ]
  },
  {
   "cell_type": "markdown",
   "id": "62d19fd0-049a-4523-b3f9-2fc45a0b64f8",
   "metadata": {},
   "source": [
    "### Set"
   ]
  },
  {
   "cell_type": "code",
   "execution_count": 27,
   "id": "9e6c81ad-20d7-4e57-b3f9-6f010259eb79",
   "metadata": {},
   "outputs": [
    {
     "name": "stdout",
     "output_type": "stream",
     "text": [
      "{1, 2, 3, 4}\n"
     ]
    },
    {
     "data": {
      "text/plain": [
       "set"
      ]
     },
     "execution_count": 27,
     "metadata": {},
     "output_type": "execute_result"
    }
   ],
   "source": [
    "nums = {1,2,3,4}\n",
    "print(nums)\n",
    "type(nums)"
   ]
  },
  {
   "cell_type": "code",
   "execution_count": 28,
   "id": "4638a76e-c24c-4668-a1fd-afcd71f41f84",
   "metadata": {},
   "outputs": [
    {
     "name": "stdout",
     "output_type": "stream",
     "text": [
      "frozenset({1, 2, 3})\n"
     ]
    },
    {
     "data": {
      "text/plain": [
       "frozenset"
      ]
     },
     "execution_count": 28,
     "metadata": {},
     "output_type": "execute_result"
    }
   ],
   "source": [
    "fs = frozenset([1,2,3])\n",
    "print(fs)\n",
    "type(fs)"
   ]
  },
  {
   "cell_type": "markdown",
   "id": "6e191c61-8423-4e3c-9009-6b6a4da53d24",
   "metadata": {},
   "source": [
    "## Binary Type\n"
   ]
  },
  {
   "cell_type": "code",
   "execution_count": 29,
   "id": "27df3a15-bfa6-4003-9e5f-fe00a4e0588c",
   "metadata": {},
   "outputs": [
    {
     "data": {
      "text/plain": [
       "bytes"
      ]
     },
     "execution_count": 29,
     "metadata": {},
     "output_type": "execute_result"
    }
   ],
   "source": [
    "b = b\"hello\"\n",
    "type(b)"
   ]
  },
  {
   "cell_type": "code",
   "execution_count": 30,
   "id": "d4d4102e-80b4-460e-b8b0-73ee1d91acc1",
   "metadata": {},
   "outputs": [
    {
     "data": {
      "text/plain": [
       "bytearray"
      ]
     },
     "execution_count": 30,
     "metadata": {},
     "output_type": "execute_result"
    }
   ],
   "source": [
    "ba = bytearray([65, 66, 67])\n",
    "type(ba)"
   ]
  },
  {
   "cell_type": "code",
   "execution_count": 31,
   "id": "4a1990c8-e800-4412-9d88-02b7c9ff27e4",
   "metadata": {},
   "outputs": [
    {
     "data": {
      "text/plain": [
       "memoryview"
      ]
     },
     "execution_count": 31,
     "metadata": {},
     "output_type": "execute_result"
    }
   ],
   "source": [
    "mv = memoryview(b\"hello\")\n",
    "type(mv)"
   ]
  },
  {
   "cell_type": "markdown",
   "id": "0c0b695b-fd24-43c0-9aae-ed816fd86013",
   "metadata": {},
   "source": [
    "# String Operations "
   ]
  },
  {
   "cell_type": "code",
   "execution_count": 32,
   "id": "05b693d8-06d3-43a2-9d92-228e706b067d",
   "metadata": {},
   "outputs": [
    {
     "name": "stdout",
     "output_type": "stream",
     "text": [
      "Hello WOrld !\n"
     ]
    }
   ],
   "source": [
    "s = \"Hello WOrld !\"\n",
    "print(s)"
   ]
  },
  {
   "cell_type": "code",
   "execution_count": 33,
   "id": "fcb2f083-6c29-4302-92ca-dbd52b352376",
   "metadata": {},
   "outputs": [
    {
     "name": "stdout",
     "output_type": "stream",
     "text": [
      "HELLO WORLD !\n"
     ]
    }
   ],
   "source": [
    "print(s.upper())"
   ]
  },
  {
   "cell_type": "code",
   "execution_count": 34,
   "id": "d3cfb947-dfee-468c-8291-e0548cd9bdf4",
   "metadata": {},
   "outputs": [
    {
     "name": "stdout",
     "output_type": "stream",
     "text": [
      "hello world !\n"
     ]
    }
   ],
   "source": [
    "print(s.lower())"
   ]
  },
  {
   "cell_type": "code",
   "execution_count": 35,
   "id": "62917eee-2167-425b-9a82-a7ffa38b9afa",
   "metadata": {},
   "outputs": [
    {
     "name": "stdout",
     "output_type": "stream",
     "text": [
      "Hello World !\n"
     ]
    }
   ],
   "source": [
    "print(s.title())"
   ]
  },
  {
   "cell_type": "code",
   "execution_count": 36,
   "id": "63f02f58-2d4f-4d52-b0fa-ee82cdc4ca4d",
   "metadata": {},
   "outputs": [
    {
     "data": {
      "text/plain": [
       "3"
      ]
     },
     "execution_count": 36,
     "metadata": {},
     "output_type": "execute_result"
    }
   ],
   "source": [
    "s.count(\"l\")"
   ]
  },
  {
   "cell_type": "code",
   "execution_count": 37,
   "id": "d51c6c13-81cd-49be-98bb-760cdc99cd04",
   "metadata": {},
   "outputs": [
    {
     "data": {
      "text/plain": [
       "'mello WOrld !'"
      ]
     },
     "execution_count": 37,
     "metadata": {},
     "output_type": "execute_result"
    }
   ],
   "source": [
    "s.replace(\"H\",\"m\")"
   ]
  },
  {
   "cell_type": "markdown",
   "id": "a983081d-956a-4594-bf3a-813d3cbf0cfe",
   "metadata": {},
   "source": [
    "# Variable"
   ]
  },
  {
   "cell_type": "code",
   "execution_count": 38,
   "id": "8a2c14d2-8442-4de9-b2cd-097a6c4b5d64",
   "metadata": {},
   "outputs": [],
   "source": [
    "message_1 = \"I'm learning Python\""
   ]
  },
  {
   "cell_type": "code",
   "execution_count": 39,
   "id": "b906397e-9484-4c62-a4e2-79771dc553dc",
   "metadata": {},
   "outputs": [
    {
     "data": {
      "text/plain": [
       "\"I'm learning Python\""
      ]
     },
     "execution_count": 39,
     "metadata": {},
     "output_type": "execute_result"
    }
   ],
   "source": [
    "message_1"
   ]
  },
  {
   "cell_type": "code",
   "execution_count": 40,
   "id": "32d83f45-b3a7-4a1c-a348-61a5f866e72d",
   "metadata": {},
   "outputs": [],
   "source": [
    "message_2 = \"and it's fun \""
   ]
  },
  {
   "cell_type": "code",
   "execution_count": 41,
   "id": "e71ea56f-ed79-45d3-8a32-2236dc979ff9",
   "metadata": {},
   "outputs": [
    {
     "data": {
      "text/plain": [
       "\"and it's fun \""
      ]
     },
     "execution_count": 41,
     "metadata": {},
     "output_type": "execute_result"
    }
   ],
   "source": [
    "message_2"
   ]
  },
  {
   "cell_type": "code",
   "execution_count": 42,
   "id": "536919f8-dccd-4706-be17-0b6ddb739b9f",
   "metadata": {},
   "outputs": [],
   "source": [
    "message = message_1 +\" \"+ message_2\n"
   ]
  },
  {
   "cell_type": "code",
   "execution_count": 43,
   "id": "0fc6d113-47f4-4fe0-8d61-7f7f0ef6881c",
   "metadata": {},
   "outputs": [
    {
     "data": {
      "text/plain": [
       "\"I'm learning Python and it's fun \""
      ]
     },
     "execution_count": 43,
     "metadata": {},
     "output_type": "execute_result"
    }
   ],
   "source": [
    "message"
   ]
  },
  {
   "cell_type": "code",
   "execution_count": 44,
   "id": "1238ee2b-e541-4db5-9dd1-cab4eed9e0ee",
   "metadata": {},
   "outputs": [
    {
     "data": {
      "text/plain": [
       "\"I'm learning Python for data-science and it's fun \""
      ]
     },
     "execution_count": 44,
     "metadata": {},
     "output_type": "execute_result"
    }
   ],
   "source": [
    "f'{message_1} for data-science {message_2}'"
   ]
  },
  {
   "cell_type": "markdown",
   "id": "2486fb7d-a9f5-4538-918c-635e25896448",
   "metadata": {},
   "source": [
    "# Lists"
   ]
  },
  {
   "cell_type": "code",
   "execution_count": 45,
   "id": "38a6216f-d229-4ce2-8562-04f84c92e947",
   "metadata": {},
   "outputs": [],
   "source": [
    "countries = [\"India\",\"United States\",\"India\",\"China\",\"Russia\"]"
   ]
  },
  {
   "cell_type": "code",
   "execution_count": 46,
   "id": "18a183d6-5ab5-4246-bd9b-1aefe070ad30",
   "metadata": {},
   "outputs": [
    {
     "data": {
      "text/plain": [
       "['India', 'United States', 'India', 'China', 'Russia']"
      ]
     },
     "execution_count": 46,
     "metadata": {},
     "output_type": "execute_result"
    }
   ],
   "source": [
    "countries"
   ]
  },
  {
   "cell_type": "code",
   "execution_count": 47,
   "id": "c98f4094-8668-4d55-9229-5a3408bb8d71",
   "metadata": {},
   "outputs": [
    {
     "name": "stdout",
     "output_type": "stream",
     "text": [
      "India\n",
      "United States\n",
      "India\n",
      "China\n",
      "Russia\n"
     ]
    }
   ],
   "source": [
    "print(countries[0])\n",
    "print(countries[1])\n",
    "print(countries[2])\n",
    "print(countries[3])\n",
    "print(countries[4])"
   ]
  },
  {
   "cell_type": "code",
   "execution_count": 48,
   "id": "03cdf4b4-4be6-4398-94e8-31e0936a4e06",
   "metadata": {},
   "outputs": [
    {
     "name": "stdout",
     "output_type": "stream",
     "text": [
      "Russia\n",
      "China\n",
      "India\n",
      "United States\n",
      "India\n"
     ]
    }
   ],
   "source": [
    "print(countries[-1])\n",
    "print(countries[-2])\n",
    "print(countries[-3])\n",
    "print(countries[-4])\n",
    "print(countries[-5])"
   ]
  },
  {
   "cell_type": "markdown",
   "id": "c8866d60-1442-4aa4-9569-5233188a439b",
   "metadata": {},
   "source": [
    "### Slicing "
   ]
  },
  {
   "cell_type": "code",
   "execution_count": 49,
   "id": "79d8fa8a-f47f-4a8e-823d-8c46e5a8ade4",
   "metadata": {},
   "outputs": [],
   "source": [
    "# Slicing[start:end]"
   ]
  },
  {
   "cell_type": "code",
   "execution_count": 50,
   "id": "419e82d2-0a7a-42a6-afc4-e788c3c3a2a2",
   "metadata": {},
   "outputs": [
    {
     "data": {
      "text/plain": [
       "['India', 'United States', 'India']"
      ]
     },
     "execution_count": 50,
     "metadata": {},
     "output_type": "execute_result"
    }
   ],
   "source": [
    "countries[0:3]"
   ]
  },
  {
   "cell_type": "code",
   "execution_count": 51,
   "id": "e28c77f9-6152-4218-90bf-8f6968597305",
   "metadata": {},
   "outputs": [
    {
     "data": {
      "text/plain": [
       "['United States', 'India', 'China', 'Russia']"
      ]
     },
     "execution_count": 51,
     "metadata": {},
     "output_type": "execute_result"
    }
   ],
   "source": [
    "countries[1:5]"
   ]
  },
  {
   "cell_type": "code",
   "execution_count": 52,
   "id": "cbbfb45b-f857-48bc-a0a0-8ca19dcdb794",
   "metadata": {},
   "outputs": [
    {
     "data": {
      "text/plain": [
       "['China', 'Russia']"
      ]
     },
     "execution_count": 52,
     "metadata": {},
     "output_type": "execute_result"
    }
   ],
   "source": [
    "countries[3:]"
   ]
  },
  {
   "cell_type": "code",
   "execution_count": 53,
   "id": "36d20e4f-3073-4733-ae63-fa8673c0bb0f",
   "metadata": {},
   "outputs": [
    {
     "data": {
      "text/plain": [
       "['India', 'United States', 'India']"
      ]
     },
     "execution_count": 53,
     "metadata": {},
     "output_type": "execute_result"
    }
   ],
   "source": [
    " countries[:3]"
   ]
  },
  {
   "cell_type": "markdown",
   "id": "ed796e5d-6330-4edf-bf7c-b6ca4a1f89b9",
   "metadata": {},
   "source": [
    "### Adding Elements To List"
   ]
  },
  {
   "cell_type": "code",
   "execution_count": 54,
   "id": "2353ef2d-b734-4d69-999f-c6d8ac3e5a7b",
   "metadata": {},
   "outputs": [],
   "source": [
    "countries.append(\"Canada\")"
   ]
  },
  {
   "cell_type": "code",
   "execution_count": 55,
   "id": "b32a33b8-43f5-4d60-a222-d1ebe38e4086",
   "metadata": {},
   "outputs": [
    {
     "data": {
      "text/plain": [
       "['India', 'United States', 'India', 'China', 'Russia', 'Canada']"
      ]
     },
     "execution_count": 55,
     "metadata": {},
     "output_type": "execute_result"
    }
   ],
   "source": [
    "countries"
   ]
  },
  {
   "cell_type": "code",
   "execution_count": 56,
   "id": "c1911aa9-8ce4-4537-bff2-53cb4c3e3cd9",
   "metadata": {},
   "outputs": [],
   "source": [
    "countries.insert(0,\"Spain\")"
   ]
  },
  {
   "cell_type": "code",
   "execution_count": 57,
   "id": "1dc7a9a6-ab36-43e4-bbe8-3e433d43181d",
   "metadata": {},
   "outputs": [
    {
     "data": {
      "text/plain": [
       "['Spain', 'India', 'United States', 'India', 'China', 'Russia', 'Canada']"
      ]
     },
     "execution_count": 57,
     "metadata": {},
     "output_type": "execute_result"
    }
   ],
   "source": [
    "countries"
   ]
  },
  {
   "cell_type": "code",
   "execution_count": 58,
   "id": "90575fe9-c410-4ac3-afb3-c3fe01b9fcd4",
   "metadata": {},
   "outputs": [
    {
     "data": {
      "text/plain": [
       "['Uk', 'Portugies', 'Newada', 'South Africa', 'Zimbambwe']"
      ]
     },
     "execution_count": 58,
     "metadata": {},
     "output_type": "execute_result"
    }
   ],
   "source": [
    "countries_2 = [\"Uk\",\"Portugies\",\"Newada\",\"South Africa\",\"Zimbambwe\"]\n",
    "countries_2"
   ]
  },
  {
   "cell_type": "code",
   "execution_count": 59,
   "id": "4c5f645d-1d0c-4497-a974-f1719fcec135",
   "metadata": {},
   "outputs": [
    {
     "data": {
      "text/plain": [
       "['Spain',\n",
       " 'India',\n",
       " 'United States',\n",
       " 'India',\n",
       " 'China',\n",
       " 'Russia',\n",
       " 'Canada',\n",
       " 'Uk',\n",
       " 'Portugies',\n",
       " 'Newada',\n",
       " 'South Africa',\n",
       " 'Zimbambwe']"
      ]
     },
     "execution_count": 59,
     "metadata": {},
     "output_type": "execute_result"
    }
   ],
   "source": [
    "countries + countries_2"
   ]
  },
  {
   "cell_type": "code",
   "execution_count": 60,
   "id": "38ab74a1-fa81-4a99-891a-013549f79822",
   "metadata": {},
   "outputs": [
    {
     "data": {
      "text/plain": [
       "[['Spain', 'India', 'United States', 'India', 'China', 'Russia', 'Canada'],\n",
       " ['Uk', 'Portugies', 'Newada', 'South Africa', 'Zimbambwe']]"
      ]
     },
     "execution_count": 60,
     "metadata": {},
     "output_type": "execute_result"
    }
   ],
   "source": [
    "Nested_countries = [countries ,countries_2]\n",
    "Nested_countries"
   ]
  },
  {
   "cell_type": "markdown",
   "id": "2f80d437-babd-41d3-b791-2ab801127497",
   "metadata": {},
   "source": [
    "## Removing an element\n"
   ]
  },
  {
   "cell_type": "code",
   "execution_count": 62,
   "id": "f1a92e28-b649-4674-a744-bbf1dc28b7b5",
   "metadata": {},
   "outputs": [
    {
     "data": {
      "text/plain": [
       "['Spain', 'India', 'United States', 'India', 'China', 'Russia', 'Canada']"
      ]
     },
     "execution_count": 62,
     "metadata": {},
     "output_type": "execute_result"
    }
   ],
   "source": [
    "countries"
   ]
  },
  {
   "cell_type": "code",
   "execution_count": 63,
   "id": "a060c1e6-c505-4fc1-870e-3b3aa3e603be",
   "metadata": {},
   "outputs": [],
   "source": [
    "countries.remove('United States')"
   ]
  },
  {
   "cell_type": "code",
   "execution_count": 64,
   "id": "4623a47f-7338-4a36-af4c-abef2911792f",
   "metadata": {},
   "outputs": [
    {
     "data": {
      "text/plain": [
       "['Spain', 'India', 'India', 'China', 'Russia', 'Canada']"
      ]
     },
     "execution_count": 64,
     "metadata": {},
     "output_type": "execute_result"
    }
   ],
   "source": [
    "countries"
   ]
  },
  {
   "cell_type": "code",
   "execution_count": 65,
   "id": "dcedad94-13ef-4458-a330-c18b8ccc35d6",
   "metadata": {},
   "outputs": [
    {
     "data": {
      "text/plain": [
       "'Canada'"
      ]
     },
     "execution_count": 65,
     "metadata": {},
     "output_type": "execute_result"
    }
   ],
   "source": [
    "countries.pop(-1)"
   ]
  },
  {
   "cell_type": "code",
   "execution_count": 66,
   "id": "86976ab5-981e-4c24-9145-687219cf30d6",
   "metadata": {},
   "outputs": [
    {
     "data": {
      "text/plain": [
       "['Spain', 'India', 'India', 'China', 'Russia']"
      ]
     },
     "execution_count": 66,
     "metadata": {},
     "output_type": "execute_result"
    }
   ],
   "source": [
    "countries"
   ]
  },
  {
   "cell_type": "code",
   "execution_count": 68,
   "id": "931927ef-fac8-465c-b3b2-97638f8da4e7",
   "metadata": {},
   "outputs": [],
   "source": [
    "del countries[0]"
   ]
  },
  {
   "cell_type": "code",
   "execution_count": 69,
   "id": "26736e6f-72fa-4d0a-a71d-a4de5085bd0b",
   "metadata": {},
   "outputs": [
    {
     "data": {
      "text/plain": [
       "['India', 'India', 'China', 'Russia']"
      ]
     },
     "execution_count": 69,
     "metadata": {},
     "output_type": "execute_result"
    }
   ],
   "source": [
    "countries"
   ]
  },
  {
   "cell_type": "markdown",
   "id": "e19fc13d-a4a1-41c0-8251-ac127fb13a43",
   "metadata": {},
   "source": [
    "## Sorting a List\n"
   ]
  },
  {
   "cell_type": "code",
   "execution_count": 70,
   "id": "97e3f4b9-fdb4-4e41-b24e-442cdb9475ed",
   "metadata": {},
   "outputs": [],
   "source": [
    "numbers= [12,5,465,9,411,78,95,34]"
   ]
  },
  {
   "cell_type": "code",
   "execution_count": 72,
   "id": "f3dac6a2-d546-4b7f-b5e7-aaf56e9ad83b",
   "metadata": {},
   "outputs": [
    {
     "data": {
      "text/plain": [
       "[5, 9, 12, 34, 78, 95, 411, 465]"
      ]
     },
     "execution_count": 72,
     "metadata": {},
     "output_type": "execute_result"
    }
   ],
   "source": [
    "numbers.sort()\n",
    "numbers"
   ]
  },
  {
   "cell_type": "code",
   "execution_count": 74,
   "id": "6eedd596-6a40-43ac-9775-a7780730b2e8",
   "metadata": {},
   "outputs": [
    {
     "data": {
      "text/plain": [
       "[465, 411, 95, 78, 34, 12, 9, 5]"
      ]
     },
     "execution_count": 74,
     "metadata": {},
     "output_type": "execute_result"
    }
   ],
   "source": [
    "numbers.sort(reverse=True)\n",
    "numbers"
   ]
  },
  {
   "cell_type": "markdown",
   "id": "00eb6d05-49d4-4b62-8ef0-d6416c72de42",
   "metadata": {},
   "source": [
    "## Update an Element"
   ]
  },
  {
   "cell_type": "code",
   "execution_count": 75,
   "id": "5b28cd17-85e8-4ea5-bb15-1418d255d0d0",
   "metadata": {},
   "outputs": [
    {
     "data": {
      "text/plain": [
       "[465, 411, 95, 78, 34, 12, 9, 5]"
      ]
     },
     "execution_count": 75,
     "metadata": {},
     "output_type": "execute_result"
    }
   ],
   "source": [
    "numbers"
   ]
  },
  {
   "cell_type": "code",
   "execution_count": 77,
   "id": "9fbc3f50-0358-43ad-bb2a-167dac905aeb",
   "metadata": {},
   "outputs": [
    {
     "data": {
      "text/plain": [
       "[10000, 411, 95, 78, 34, 12, 9, 5]"
      ]
     },
     "execution_count": 77,
     "metadata": {},
     "output_type": "execute_result"
    }
   ],
   "source": [
    "numbers[0]=10000\n",
    "numbers"
   ]
  },
  {
   "cell_type": "markdown",
   "id": "2d9dc1fb-b87b-4c1a-8635-a5770121deb5",
   "metadata": {},
   "source": [
    "## Copying a list"
   ]
  },
  {
   "cell_type": "code",
   "execution_count": 78,
   "id": "d6654a8e-c6de-4622-b5eb-b546b98b14de",
   "metadata": {},
   "outputs": [
    {
     "data": {
      "text/plain": [
       "['India', 'India', 'China', 'Russia']"
      ]
     },
     "execution_count": 78,
     "metadata": {},
     "output_type": "execute_result"
    }
   ],
   "source": [
    "countries"
   ]
  },
  {
   "cell_type": "code",
   "execution_count": 79,
   "id": "5e3744bc-c218-4f00-85cd-03369c98686d",
   "metadata": {},
   "outputs": [
    {
     "data": {
      "text/plain": [
       "['India', 'India', 'China', 'Russia']"
      ]
     },
     "execution_count": 79,
     "metadata": {},
     "output_type": "execute_result"
    }
   ],
   "source": [
    "countries[:]"
   ]
  },
  {
   "cell_type": "code",
   "execution_count": 80,
   "id": "9aab5b1a-7c22-423c-97f8-d28cefa258f0",
   "metadata": {},
   "outputs": [
    {
     "data": {
      "text/plain": [
       "['India', 'India', 'China', 'Russia']"
      ]
     },
     "execution_count": 80,
     "metadata": {},
     "output_type": "execute_result"
    }
   ],
   "source": [
    "new_list = countries[:]\n",
    "new_list"
   ]
  },
  {
   "cell_type": "code",
   "execution_count": 84,
   "id": "7fc9afb2-a82a-40b4-a31f-1bfd22e34242",
   "metadata": {},
   "outputs": [
    {
     "data": {
      "text/plain": [
       "['India', 'India', 'China', 'Russia']"
      ]
     },
     "execution_count": 84,
     "metadata": {},
     "output_type": "execute_result"
    }
   ],
   "source": [
    "Copy_countries=countries.copy()\n",
    "Copy_countries"
   ]
  },
  {
   "cell_type": "markdown",
   "id": "0bfe123a-3d6e-4e9f-a603-e2376c9a0c3b",
   "metadata": {},
   "source": [
    "# Dictionary"
   ]
  },
  {
   "cell_type": "code",
   "execution_count": 85,
   "id": "c473b103-ff10-475c-a6a8-fc4e144d25fe",
   "metadata": {},
   "outputs": [],
   "source": [
    "my_dict={'key1':'value1','key2':'value2'}"
   ]
  },
  {
   "cell_type": "code",
   "execution_count": 86,
   "id": "749ebf3c-0e49-40af-848e-64c1404f9c6b",
   "metadata": {},
   "outputs": [],
   "source": [
    "my_data={'Name':'Aditya','Age':'21','Positon':'Data Scientist'}"
   ]
  },
  {
   "cell_type": "code",
   "execution_count": 87,
   "id": "e48db172-8f27-41c4-91ee-f11e9b453ba9",
   "metadata": {},
   "outputs": [
    {
     "data": {
      "text/plain": [
       "{'Name': 'Aditya', 'Age': '21', 'Positon': 'Data Scientist'}"
      ]
     },
     "execution_count": 87,
     "metadata": {},
     "output_type": "execute_result"
    }
   ],
   "source": [
    "my_data"
   ]
  },
  {
   "cell_type": "code",
   "execution_count": 91,
   "id": "f86693b4-2a47-4c51-93de-d0b9e2671ebe",
   "metadata": {},
   "outputs": [
    {
     "data": {
      "text/plain": [
       "dict_values(['Aditya', '21', 'Data Scientist'])"
      ]
     },
     "execution_count": 91,
     "metadata": {},
     "output_type": "execute_result"
    }
   ],
   "source": [
    "my_data.values()"
   ]
  },
  {
   "cell_type": "code",
   "execution_count": 92,
   "id": "707be66c-ba57-4652-90ba-3f26c3d06f53",
   "metadata": {},
   "outputs": [
    {
     "data": {
      "text/plain": [
       "dict_keys(['Name', 'Age', 'Positon'])"
      ]
     },
     "execution_count": 92,
     "metadata": {},
     "output_type": "execute_result"
    }
   ],
   "source": [
    "my_data.keys()"
   ]
  },
  {
   "cell_type": "code",
   "execution_count": 93,
   "id": "d55662be-1ea1-452a-8bb3-fe5d9ad01aa4",
   "metadata": {},
   "outputs": [
    {
     "data": {
      "text/plain": [
       "dict_items([('Name', 'Aditya'), ('Age', '21'), ('Positon', 'Data Scientist')])"
      ]
     },
     "execution_count": 93,
     "metadata": {},
     "output_type": "execute_result"
    }
   ],
   "source": [
    "my_data.items()"
   ]
  },
  {
   "cell_type": "code",
   "execution_count": 94,
   "id": "ab27b957-4908-46f2-a251-7102e3f25e02",
   "metadata": {},
   "outputs": [],
   "source": [
    "my_data['Height'] = 5.5"
   ]
  },
  {
   "cell_type": "code",
   "execution_count": 95,
   "id": "09807149-be91-4d03-9b8d-c252ac6e4111",
   "metadata": {},
   "outputs": [
    {
     "data": {
      "text/plain": [
       "{'Name': 'Aditya', 'Age': '21', 'Positon': 'Data Scientist', 'Height': 5.5}"
      ]
     },
     "execution_count": 95,
     "metadata": {},
     "output_type": "execute_result"
    }
   ],
   "source": [
    "my_data"
   ]
  },
  {
   "cell_type": "code",
   "execution_count": 118,
   "id": "71df6536-cd0b-4fde-8b8b-c619c5f7a1b6",
   "metadata": {},
   "outputs": [],
   "source": [
    "my_data.update({'Height':7.0})"
   ]
  },
  {
   "cell_type": "code",
   "execution_count": 119,
   "id": "503f8f2b-36a3-488b-9516-9a162a6d4020",
   "metadata": {},
   "outputs": [
    {
     "data": {
      "text/plain": [
       "{'Name': 'Aditya', 'Age': '21', 'Positon': 'Data Scientist', 'Height': 7.0}"
      ]
     },
     "execution_count": 119,
     "metadata": {},
     "output_type": "execute_result"
    }
   ],
   "source": [
    "my_data"
   ]
  },
  {
   "cell_type": "markdown",
   "id": "b70652c9-ce27-4fa4-b672-8930a0540df6",
   "metadata": {},
   "source": [
    "## Copy a Dictionary"
   ]
  },
  {
   "cell_type": "code",
   "execution_count": 113,
   "id": "7ac61fd2-5d1b-4093-8756-a50769605cc8",
   "metadata": {},
   "outputs": [],
   "source": [
    "new_dict1 = my_data.copy()"
   ]
  },
  {
   "cell_type": "code",
   "execution_count": 120,
   "id": "68916ba7-c32f-4a7f-a391-81ccf1193e48",
   "metadata": {},
   "outputs": [
    {
     "data": {
      "text/plain": [
       "{'Name': 'Aditya', 'Age': '21', 'Positon': 'Data Scientist', 'Height': 6.0}"
      ]
     },
     "execution_count": 120,
     "metadata": {},
     "output_type": "execute_result"
    }
   ],
   "source": [
    "new_dict1"
   ]
  },
  {
   "cell_type": "code",
   "execution_count": 115,
   "id": "a967e5bf-88fb-4e8b-9092-ca01b388e84d",
   "metadata": {},
   "outputs": [],
   "source": [
    "# if we change the data in my_data the data in new_data1 deos not change "
   ]
  },
  {
   "cell_type": "code",
   "execution_count": 116,
   "id": "45377bbf-e1c7-405e-9786-23b47f8e8715",
   "metadata": {},
   "outputs": [],
   "source": [
    "new_data2 = my_data"
   ]
  },
  {
   "cell_type": "code",
   "execution_count": 121,
   "id": "cd2f9fee-3183-404c-9754-d5ef29da5a67",
   "metadata": {},
   "outputs": [
    {
     "data": {
      "text/plain": [
       "{'Name': 'Aditya', 'Age': '21', 'Positon': 'Data Scientist', 'Height': 7.0}"
      ]
     },
     "execution_count": 121,
     "metadata": {},
     "output_type": "execute_result"
    }
   ],
   "source": [
    "new_data2"
   ]
  },
  {
   "cell_type": "code",
   "execution_count": 123,
   "id": "7894f09a-982c-4951-a301-93c112857544",
   "metadata": {},
   "outputs": [],
   "source": [
    "# but in new_data2 the changes are shown "
   ]
  },
  {
   "cell_type": "markdown",
   "id": "2030333c-79df-4d1b-9107-d5602d544a1b",
   "metadata": {},
   "source": [
    "## Remove Element"
   ]
  },
  {
   "cell_type": "code",
   "execution_count": 125,
   "id": "c6de6f16-aa34-4674-9be4-453473a7d682",
   "metadata": {},
   "outputs": [
    {
     "data": {
      "text/plain": [
       "'Aditya'"
      ]
     },
     "execution_count": 125,
     "metadata": {},
     "output_type": "execute_result"
    }
   ],
   "source": [
    " my_data.pop('Name')"
   ]
  },
  {
   "cell_type": "code",
   "execution_count": 126,
   "id": "e70785ad-a9cb-4afd-a0cd-45ec06a41812",
   "metadata": {},
   "outputs": [
    {
     "data": {
      "text/plain": [
       "{'Age': '21', 'Positon': 'Data Scientist', 'Height': 7.0}"
      ]
     },
     "execution_count": 126,
     "metadata": {},
     "output_type": "execute_result"
    }
   ],
   "source": [
    "my_data"
   ]
  },
  {
   "cell_type": "code",
   "execution_count": 128,
   "id": "5b014a1a-ca0e-4023-ac28-e8693186dfa0",
   "metadata": {},
   "outputs": [],
   "source": [
    "del my_data['Age']"
   ]
  },
  {
   "cell_type": "code",
   "execution_count": 129,
   "id": "30aaa80a-1828-409d-8d82-60f9efb6b0ac",
   "metadata": {},
   "outputs": [
    {
     "data": {
      "text/plain": [
       "{'Positon': 'Data Scientist', 'Height': 7.0}"
      ]
     },
     "execution_count": 129,
     "metadata": {},
     "output_type": "execute_result"
    }
   ],
   "source": [
    "my_data"
   ]
  },
  {
   "cell_type": "code",
   "execution_count": 130,
   "id": "d58d8b6a-7233-4e2d-a82e-c5ade0dcfa82",
   "metadata": {},
   "outputs": [],
   "source": [
    "my_data.clear()"
   ]
  },
  {
   "cell_type": "code",
   "execution_count": 131,
   "id": "bb484b37-3b43-4a7c-9dfb-780bad035fa6",
   "metadata": {},
   "outputs": [
    {
     "data": {
      "text/plain": [
       "{}"
      ]
     },
     "execution_count": 131,
     "metadata": {},
     "output_type": "execute_result"
    }
   ],
   "source": [
    "my_data"
   ]
  },
  {
   "cell_type": "markdown",
   "id": "109d4302-8508-4e37-b219-a2e3e38896db",
   "metadata": {},
   "source": [
    "# If Statement"
   ]
  },
  {
   "cell_type": "markdown",
   "id": "5ccf6345-eef0-4c7a-9097-a071e8056442",
   "metadata": {},
   "source": [
    "if <condition>:\n",
    "    <code>\n",
    "elif <condition>:\n",
    "    <code>\n",
    "else:\n"
   ]
  },
  {
   "cell_type": "code",
   "execution_count": 138,
   "id": "4e0e1321-c0f0-4eac-bd28-db8d67940c2b",
   "metadata": {},
   "outputs": [
    {
     "name": "stdout",
     "output_type": "stream",
     "text": [
      "You're a child\n"
     ]
    }
   ],
   "source": [
    "age = 10\n",
    "if age>=18:\n",
    "    print(\"You're an adult\")\n",
    "elif age>=60:\n",
    "    print(\"You're old \")\n",
    "else:\n",
    "    print(\"You're a child\")"
   ]
  },
  {
   "cell_type": "markdown",
   "id": "3a685190-0c47-4a24-81f8-b3fad7ecfd5b",
   "metadata": {},
   "source": [
    "# For loop"
   ]
  },
  {
   "cell_type": "markdown",
   "id": "4c91dd5b-4b90-41a9-a551-bf33405de697",
   "metadata": {},
   "source": [
    "for <variable> in <list>\n",
    "    <code>\n"
   ]
  },
  {
   "cell_type": "code",
   "execution_count": 139,
   "id": "0f208cde-dff5-4011-b716-ce976549e1cc",
   "metadata": {},
   "outputs": [
    {
     "data": {
      "text/plain": [
       "['India', 'India', 'China', 'Russia']"
      ]
     },
     "execution_count": 139,
     "metadata": {},
     "output_type": "execute_result"
    }
   ],
   "source": [
    "countries"
   ]
  },
  {
   "cell_type": "code",
   "execution_count": 140,
   "id": "c3c938e7-a69d-43df-949e-4d2f4efa0c9b",
   "metadata": {},
   "outputs": [
    {
     "name": "stdout",
     "output_type": "stream",
     "text": [
      "India\n",
      "India\n",
      "China\n",
      "Russia\n"
     ]
    }
   ],
   "source": [
    "for country in countries:\n",
    "    print(country)"
   ]
  },
  {
   "cell_type": "code",
   "execution_count": 146,
   "id": "2659aa0b-e68e-4267-a51f-37093ec9ab43",
   "metadata": {},
   "outputs": [
    {
     "name": "stdout",
     "output_type": "stream",
     "text": [
      "0 India\n",
      "1 India\n",
      "2 China\n",
      "3 Russia\n"
     ]
    }
   ],
   "source": [
    "for i,country in enumerate(countries):\n",
    "    print(i,country)"
   ]
  },
  {
   "cell_type": "code",
   "execution_count": 147,
   "id": "2082fd94-a634-4f32-abee-462a796ac0a8",
   "metadata": {},
   "outputs": [
    {
     "data": {
      "text/plain": [
       "{'Name': 'Aditya', 'Age': '21', 'Positon': 'Data Scientist'}"
      ]
     },
     "execution_count": 147,
     "metadata": {},
     "output_type": "execute_result"
    }
   ],
   "source": [
    "my_data={'Name':'Aditya','Age':'21','Positon':'Data Scientist'}\n",
    "my_data"
   ]
  },
  {
   "cell_type": "code",
   "execution_count": 155,
   "id": "79e38ef7-4772-48ca-baae-d96b0b144bd9",
   "metadata": {},
   "outputs": [
    {
     "name": "stdout",
     "output_type": "stream",
     "text": [
      "Name Aditya\n",
      "Age 21\n",
      "Positon Data Scientist\n"
     ]
    }
   ],
   "source": [
    "for key,value in my_data.items():\n",
    "    print(key,value)"
   ]
  },
  {
   "cell_type": "markdown",
   "id": "6b911896-c499-4862-9488-3929aeb462d6",
   "metadata": {},
   "source": [
    "# Function"
   ]
  },
  {
   "cell_type": "markdown",
   "id": "0b9c0dd6-cd60-488b-98fd-f87c920d002f",
   "metadata": {},
   "source": [
    "def function(<parameters>):\n",
    "    <code>\n",
    "    return <data>"
   ]
  },
  {
   "cell_type": "code",
   "execution_count": 157,
   "id": "2b703e80-a722-45a1-a3ee-362f46674fa6",
   "metadata": {},
   "outputs": [],
   "source": [
    "def sum_values(a,b):\n",
    "    x = a + b \n",
    "    return x "
   ]
  },
  {
   "cell_type": "code",
   "execution_count": 158,
   "id": "66a80ccd-8404-4bb5-ab96-72bdb68ea200",
   "metadata": {},
   "outputs": [
    {
     "data": {
      "text/plain": [
       "300"
      ]
     },
     "execution_count": 158,
     "metadata": {},
     "output_type": "execute_result"
    }
   ],
   "source": [
    "sum_values(100,200)"
   ]
  },
  {
   "cell_type": "markdown",
   "id": "7ef36468-b8ae-4849-96c6-00ed1ff6e2ec",
   "metadata": {},
   "source": [
    "## Built-in functions"
   ]
  },
  {
   "cell_type": "code",
   "execution_count": 159,
   "id": "603d79b3-4902-434b-9b20-6379a966bb8d",
   "metadata": {},
   "outputs": [
    {
     "data": {
      "text/plain": [
       "['India', 'India', 'China', 'Russia']"
      ]
     },
     "execution_count": 159,
     "metadata": {},
     "output_type": "execute_result"
    }
   ],
   "source": [
    "countries"
   ]
  },
  {
   "cell_type": "code",
   "execution_count": 160,
   "id": "62e739b9-acfb-4ac0-a128-1a3e97973364",
   "metadata": {},
   "outputs": [
    {
     "data": {
      "text/plain": [
       "4"
      ]
     },
     "execution_count": 160,
     "metadata": {},
     "output_type": "execute_result"
    }
   ],
   "source": [
    "len(countries)"
   ]
  },
  {
   "cell_type": "code",
   "execution_count": 161,
   "id": "0b989fef-410c-4599-a219-8d420be36743",
   "metadata": {},
   "outputs": [
    {
     "data": {
      "text/plain": [
       "116441"
      ]
     },
     "execution_count": 161,
     "metadata": {},
     "output_type": "execute_result"
    }
   ],
   "source": [
    "max(12,561,541,116441,16431,1)"
   ]
  },
  {
   "cell_type": "code",
   "execution_count": 162,
   "id": "ebfcf339-b815-4e25-a2be-2b4de917d141",
   "metadata": {},
   "outputs": [
    {
     "data": {
      "text/plain": [
       "0"
      ]
     },
     "execution_count": 162,
     "metadata": {},
     "output_type": "execute_result"
    }
   ],
   "source": [
    "min(12,54541,4420,47100,0,45,6)"
   ]
  },
  {
   "cell_type": "code",
   "execution_count": 163,
   "id": "c51d4b88-8be6-4eab-b5bb-e7a8f0de08e7",
   "metadata": {},
   "outputs": [
    {
     "data": {
      "text/plain": [
       "list"
      ]
     },
     "execution_count": 163,
     "metadata": {},
     "output_type": "execute_result"
    }
   ],
   "source": [
    "type(countries)"
   ]
  },
  {
   "cell_type": "code",
   "execution_count": 168,
   "id": "663451eb-e63f-4db7-9a0d-fc1e07d54511",
   "metadata": {},
   "outputs": [
    {
     "name": "stdout",
     "output_type": "stream",
     "text": [
      "1\n",
      "3\n",
      "5\n",
      "7\n",
      "9\n"
     ]
    }
   ],
   "source": [
    "for i in range(1,10,2):\n",
    "    print(i)"
   ]
  },
  {
   "cell_type": "markdown",
   "id": "360a007a-9952-4065-9822-dfeca3768b96",
   "metadata": {},
   "source": [
    "# Module"
   ]
  },
  {
   "cell_type": "markdown",
   "id": "6c476a1e-52e1-426a-baf3-0d3bba2a81e1",
   "metadata": {},
   "source": [
    "import"
   ]
  },
  {
   "cell_type": "markdown",
   "id": "02224382-fa0a-43bc-b44e-223de84e723d",
   "metadata": {},
   "source": [
    "## OS Module"
   ]
  },
  {
   "cell_type": "code",
   "execution_count": 170,
   "id": "f53bbf01-b57b-4ad2-9cb0-2efe30b57c91",
   "metadata": {},
   "outputs": [],
   "source": [
    "import os"
   ]
  },
  {
   "cell_type": "code",
   "execution_count": 171,
   "id": "09587395-baba-4471-ac8e-685710d483c4",
   "metadata": {},
   "outputs": [
    {
     "data": {
      "text/plain": [
       "'C:\\\\Users\\\\hp\\\\Anaconda Scripts\\\\MY course'"
      ]
     },
     "execution_count": 171,
     "metadata": {},
     "output_type": "execute_result"
    }
   ],
   "source": [
    "os.getcwd()"
   ]
  },
  {
   "cell_type": "code",
   "execution_count": 172,
   "id": "edc1eb58-b920-4e11-a4b3-9abd8686a290",
   "metadata": {},
   "outputs": [
    {
     "data": {
      "text/plain": [
       "['.ipynb_checkpoints', 'Example.ipynb']"
      ]
     },
     "execution_count": 172,
     "metadata": {},
     "output_type": "execute_result"
    }
   ],
   "source": [
    "os.listdir()"
   ]
  },
  {
   "cell_type": "code",
   "execution_count": 174,
   "id": "82546080-404a-486d-96c4-5c4713b0bba7",
   "metadata": {},
   "outputs": [],
   "source": [
    "os.makedirs(\"New Folder\")"
   ]
  },
  {
   "cell_type": "code",
   "execution_count": 175,
   "id": "f9bfddbc-2186-4625-93a6-9a539ce1796c",
   "metadata": {},
   "outputs": [
    {
     "data": {
      "text/plain": [
       "['.ipynb_checkpoints', 'Example.ipynb', 'New Folder']"
      ]
     },
     "execution_count": 175,
     "metadata": {},
     "output_type": "execute_result"
    }
   ],
   "source": [
    "os.listdir()"
   ]
  },
  {
   "cell_type": "code",
   "execution_count": null,
   "id": "f22974f6-75d4-4d03-9152-12f34ce8feb0",
   "metadata": {},
   "outputs": [],
   "source": []
  }
 ],
 "metadata": {
  "kernelspec": {
   "display_name": "Python [conda env:base] *",
   "language": "python",
   "name": "conda-base-py"
  },
  "language_info": {
   "codemirror_mode": {
    "name": "ipython",
    "version": 3
   },
   "file_extension": ".py",
   "mimetype": "text/x-python",
   "name": "python",
   "nbconvert_exporter": "python",
   "pygments_lexer": "ipython3",
   "version": "3.13.5"
  }
 },
 "nbformat": 4,
 "nbformat_minor": 5
}
